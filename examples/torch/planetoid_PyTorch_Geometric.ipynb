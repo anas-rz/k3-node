{
  "nbformat": 4,
  "nbformat_minor": 0,
  "metadata": {
    "colab": {
      "provenance": []
    },
    "kernelspec": {
      "name": "python3",
      "display_name": "Python 3"
    },
    "language_info": {
      "name": "python"
    }
  },
  "cells": [
    {
      "cell_type": "code",
      "source": [
        "!pip install torch_geometric\n",
        "!pip install --upgrade keras -qq\n",
        "!git clone https://github.com/anas-rz/k3-node.git"
      ],
      "metadata": {
        "colab": {
          "base_uri": "https://localhost:8080/"
        },
        "id": "WQlsvc5eDSiq",
        "outputId": "1acbe1bf-c8a1-4be5-fcd1-bd2315961622"
      },
      "execution_count": 1,
      "outputs": [
        {
          "output_type": "stream",
          "name": "stdout",
          "text": [
            "Collecting torch_geometric\n",
            "  Downloading torch_geometric-2.4.0-py3-none-any.whl (1.0 MB)\n",
            "\u001b[2K     \u001b[90m━━━━━━━━━━━━━━━━━━━━━━━━━━━━━━━━━━━━━━━━\u001b[0m \u001b[32m1.0/1.0 MB\u001b[0m \u001b[31m6.2 MB/s\u001b[0m eta \u001b[36m0:00:00\u001b[0m\n",
            "\u001b[?25hRequirement already satisfied: tqdm in /usr/local/lib/python3.10/dist-packages (from torch_geometric) (4.66.1)\n",
            "Requirement already satisfied: numpy in /usr/local/lib/python3.10/dist-packages (from torch_geometric) (1.23.5)\n",
            "Requirement already satisfied: scipy in /usr/local/lib/python3.10/dist-packages (from torch_geometric) (1.11.4)\n",
            "Requirement already satisfied: jinja2 in /usr/local/lib/python3.10/dist-packages (from torch_geometric) (3.1.3)\n",
            "Requirement already satisfied: requests in /usr/local/lib/python3.10/dist-packages (from torch_geometric) (2.31.0)\n",
            "Requirement already satisfied: pyparsing in /usr/local/lib/python3.10/dist-packages (from torch_geometric) (3.1.1)\n",
            "Requirement already satisfied: scikit-learn in /usr/local/lib/python3.10/dist-packages (from torch_geometric) (1.2.2)\n",
            "Requirement already satisfied: psutil>=5.8.0 in /usr/local/lib/python3.10/dist-packages (from torch_geometric) (5.9.5)\n",
            "Requirement already satisfied: MarkupSafe>=2.0 in /usr/local/lib/python3.10/dist-packages (from jinja2->torch_geometric) (2.1.4)\n",
            "Requirement already satisfied: charset-normalizer<4,>=2 in /usr/local/lib/python3.10/dist-packages (from requests->torch_geometric) (3.3.2)\n",
            "Requirement already satisfied: idna<4,>=2.5 in /usr/local/lib/python3.10/dist-packages (from requests->torch_geometric) (3.6)\n",
            "Requirement already satisfied: urllib3<3,>=1.21.1 in /usr/local/lib/python3.10/dist-packages (from requests->torch_geometric) (2.0.7)\n",
            "Requirement already satisfied: certifi>=2017.4.17 in /usr/local/lib/python3.10/dist-packages (from requests->torch_geometric) (2023.11.17)\n",
            "Requirement already satisfied: joblib>=1.1.1 in /usr/local/lib/python3.10/dist-packages (from scikit-learn->torch_geometric) (1.3.2)\n",
            "Requirement already satisfied: threadpoolctl>=2.0.0 in /usr/local/lib/python3.10/dist-packages (from scikit-learn->torch_geometric) (3.2.0)\n",
            "Installing collected packages: torch_geometric\n",
            "Successfully installed torch_geometric-2.4.0\n",
            "\u001b[2K     \u001b[90m━━━━━━━━━━━━━━━━━━━━━━━━━━━━━━━━━━━━━━━━\u001b[0m \u001b[32m1.0/1.0 MB\u001b[0m \u001b[31m5.7 MB/s\u001b[0m eta \u001b[36m0:00:00\u001b[0m\n",
            "\u001b[?25h\u001b[31mERROR: pip's dependency resolver does not currently take into account all the packages that are installed. This behaviour is the source of the following dependency conflicts.\n",
            "tensorflow 2.15.0 requires keras<2.16,>=2.15.0, but you have keras 3.0.4 which is incompatible.\u001b[0m\u001b[31m\n",
            "\u001b[0mCloning into 'k3-node'...\n",
            "remote: Enumerating objects: 489, done.\u001b[K\n",
            "remote: Counting objects: 100% (88/88), done.\u001b[K\n",
            "remote: Compressing objects: 100% (54/54), done.\u001b[K\n",
            "remote: Total 489 (delta 40), reused 66 (delta 26), pack-reused 401\u001b[K\n",
            "Receiving objects: 100% (489/489), 355.01 KiB | 1.78 MiB/s, done.\n",
            "Resolving deltas: 100% (276/276), done.\n"
          ]
        }
      ]
    },
    {
      "cell_type": "code",
      "source": [
        "import os, sys\n",
        "sys.path.append('./k3-node')\n",
        "os.environ['KERAS_BACKEND'] = 'torch'"
      ],
      "metadata": {
        "id": "UzWTfJoSDynR"
      },
      "execution_count": 1,
      "outputs": []
    },
    {
      "cell_type": "code",
      "execution_count": 2,
      "metadata": {
        "id": "R2UAoyWUDMhb"
      },
      "outputs": [],
      "source": [
        "import os.path as osp\n",
        "\n",
        "import torch\n",
        "import torch.nn.functional as F\n",
        "\n",
        "import torch_geometric.transforms as T\n",
        "from torch_geometric.datasets import Planetoid\n",
        "\n",
        "import keras\n",
        "from keras import layers, Model, ops\n",
        "\n",
        "\n",
        "from k3_node.layers import GatedGraphConv\n",
        "from k3_node.utils import edge_index_to_adjacency_matrix\n",
        "\n",
        "dataset = 'Cora'\n",
        "path = osp.join(osp.dirname(osp.realpath('.')), '..', 'data', dataset)\n",
        "dataset = Planetoid(path, dataset, transform=T.NormalizeFeatures())\n",
        "data = dataset[0]"
      ]
    },
    {
      "cell_type": "code",
      "source": [
        "class Net(Model):\n",
        "    def __init__(self):\n",
        "        super().__init__()\n",
        "        self.dropout1 = layers.Dropout(0.3)\n",
        "        self.dropout2 = layers.Dropout(0.3)\n",
        "        self.lin1 = layers.Dense(16)\n",
        "        self.prop1 = GatedGraphConv(128, 3)\n",
        "        self.prop2 = GatedGraphConv(128, 2)\n",
        "        self.lin2 = layers.Dense(dataset.num_classes)\n",
        "\n",
        "    def call(self, data=None):\n",
        "        x = data.x\n",
        "        adj = edge_index_to_adjacency_matrix(data.edge_index)\n",
        "        x = self.dropout1(x)\n",
        "        x = ops.relu(self.lin1(x))\n",
        "\n",
        "        x = self.prop1((x, adj))\n",
        "        x = self.prop2((x, adj))\n",
        "        x = self.dropout2(x)\n",
        "        x = self.lin2(x)\n",
        "        return ops.log_softmax(x, axis=1)"
      ],
      "metadata": {
        "id": "_Ai9FFvGD_aY"
      },
      "execution_count": 3,
      "outputs": []
    },
    {
      "cell_type": "code",
      "source": [
        "@torch.no_grad()\n",
        "def test(model):\n",
        "    model.eval()\n",
        "    out, accs = model(data=data), []\n",
        "    for _, mask in data('train_mask', 'val_mask', 'test_mask'):\n",
        "        pred = out[mask].argmax(1)\n",
        "        acc = pred.eq(data.y[mask]).sum().item() / mask.sum().item()\n",
        "        accs.append(acc)\n",
        "    return accs"
      ],
      "metadata": {
        "id": "m0akcAngPngA"
      },
      "execution_count": 4,
      "outputs": []
    },
    {
      "cell_type": "code",
      "source": [
        "model = Net()\n",
        "optimizer = keras.optimizers.Adam(learning_rate=1e-3)\n",
        "loss_fn = keras.losses.SparseCategoricalCrossentropy(from_logits=True)\n",
        "best_val_acc = 0\n",
        "for epoch in range(1, 51):\n",
        "    # Forward pass\n",
        "    out = model(data=data)\n",
        "    loss = loss_fn(data.y[data.train_mask], out[data.train_mask])\n",
        "\n",
        "    # Backward pass\n",
        "    model.zero_grad()\n",
        "    trainable_weights = [v for v in model.trainable_weights]\n",
        "\n",
        "    # Call torch.Tensor.backward() on the loss to compute gradients\n",
        "    # for the weights.\n",
        "    loss.backward()\n",
        "    gradients = [v.value.grad for v in trainable_weights]\n",
        "\n",
        "    # Update weights\n",
        "    with torch.no_grad():\n",
        "        optimizer.apply(gradients, trainable_weights)\n",
        "\n",
        "    train_acc, val_acc, tmp_test_acc = test(model)\n",
        "\n",
        "    print(\n",
        "        f\"Training loss at epoch {epoch}: {loss.detach().numpy():.4f}\"\n",
        "    )\n",
        "    if val_acc > best_val_acc:\n",
        "        best_val_acc = val_acc\n",
        "        test_acc = tmp_test_acc\n",
        "    print(f'Epoch: {epoch:03d}, Train: {train_acc:.4f}, '\n",
        "          f'Val: {best_val_acc:.4f}, Test: {test_acc:.4f}')"
      ],
      "metadata": {
        "colab": {
          "base_uri": "https://localhost:8080/"
        },
        "id": "RWsYVmMXEU2V",
        "outputId": "180ccf57-0b10-44b9-fdb2-3213b45a8337"
      },
      "execution_count": 5,
      "outputs": [
        {
          "output_type": "stream",
          "name": "stdout",
          "text": [
            "Training loss at epoch 1: 1.9491\n",
            "Epoch: 001, Train: 0.1571, Val: 0.1620, Test: 0.1450\n",
            "Training loss at epoch 2: 1.8746\n",
            "Epoch: 002, Train: 0.2714, Val: 0.1840, Test: 0.1890\n",
            "Training loss at epoch 3: 1.8219\n",
            "Epoch: 003, Train: 0.2357, Val: 0.1840, Test: 0.1890\n",
            "Training loss at epoch 4: 1.7723\n",
            "Epoch: 004, Train: 0.3357, Val: 0.2980, Test: 0.3100\n",
            "Training loss at epoch 5: 1.7175\n",
            "Epoch: 005, Train: 0.3500, Val: 0.3360, Test: 0.3440\n",
            "Training loss at epoch 6: 1.6714\n",
            "Epoch: 006, Train: 0.3500, Val: 0.3360, Test: 0.3440\n",
            "Training loss at epoch 7: 1.6145\n",
            "Epoch: 007, Train: 0.3643, Val: 0.3360, Test: 0.3440\n",
            "Training loss at epoch 8: 1.5644\n",
            "Epoch: 008, Train: 0.3857, Val: 0.3660, Test: 0.3690\n",
            "Training loss at epoch 9: 1.5077\n",
            "Epoch: 009, Train: 0.4214, Val: 0.4300, Test: 0.4280\n",
            "Training loss at epoch 10: 1.4584\n",
            "Epoch: 010, Train: 0.4071, Val: 0.4380, Test: 0.4300\n",
            "Training loss at epoch 11: 1.4119\n",
            "Epoch: 011, Train: 0.4357, Val: 0.4520, Test: 0.4390\n",
            "Training loss at epoch 12: 1.3715\n",
            "Epoch: 012, Train: 0.4571, Val: 0.4520, Test: 0.4390\n",
            "Training loss at epoch 13: 1.3358\n",
            "Epoch: 013, Train: 0.4571, Val: 0.4520, Test: 0.4390\n",
            "Training loss at epoch 14: 1.3045\n",
            "Epoch: 014, Train: 0.4500, Val: 0.4540, Test: 0.4310\n",
            "Training loss at epoch 15: 1.2714\n",
            "Epoch: 015, Train: 0.4857, Val: 0.4620, Test: 0.4370\n",
            "Training loss at epoch 16: 1.2346\n",
            "Epoch: 016, Train: 0.4714, Val: 0.4620, Test: 0.4370\n",
            "Training loss at epoch 17: 1.2026\n",
            "Epoch: 017, Train: 0.4643, Val: 0.4700, Test: 0.4290\n",
            "Training loss at epoch 18: 1.2173\n",
            "Epoch: 018, Train: 0.5286, Val: 0.4980, Test: 0.4760\n",
            "Training loss at epoch 19: 1.1394\n",
            "Epoch: 019, Train: 0.5500, Val: 0.5060, Test: 0.4860\n",
            "Training loss at epoch 20: 1.0966\n",
            "Epoch: 020, Train: 0.6000, Val: 0.5060, Test: 0.4860\n",
            "Training loss at epoch 21: 1.0769\n",
            "Epoch: 021, Train: 0.6286, Val: 0.5240, Test: 0.5130\n",
            "Training loss at epoch 22: 1.0197\n",
            "Epoch: 022, Train: 0.6143, Val: 0.5240, Test: 0.5130\n",
            "Training loss at epoch 23: 1.0088\n",
            "Epoch: 023, Train: 0.6429, Val: 0.5300, Test: 0.5390\n",
            "Training loss at epoch 24: 0.9583\n",
            "Epoch: 024, Train: 0.6571, Val: 0.5560, Test: 0.5380\n",
            "Training loss at epoch 25: 0.9295\n",
            "Epoch: 025, Train: 0.6714, Val: 0.5620, Test: 0.5490\n",
            "Training loss at epoch 26: 0.8863\n",
            "Epoch: 026, Train: 0.6857, Val: 0.5640, Test: 0.5680\n",
            "Training loss at epoch 27: 0.8549\n",
            "Epoch: 027, Train: 0.7143, Val: 0.5640, Test: 0.5680\n",
            "Training loss at epoch 28: 0.8141\n",
            "Epoch: 028, Train: 0.7429, Val: 0.5640, Test: 0.5680\n",
            "Training loss at epoch 29: 0.7707\n",
            "Epoch: 029, Train: 0.7500, Val: 0.5700, Test: 0.5660\n",
            "Training loss at epoch 30: 0.7450\n",
            "Epoch: 030, Train: 0.7786, Val: 0.5700, Test: 0.5660\n",
            "Training loss at epoch 31: 0.6935\n",
            "Epoch: 031, Train: 0.7929, Val: 0.5700, Test: 0.5660\n",
            "Training loss at epoch 32: 0.6676\n",
            "Epoch: 032, Train: 0.7857, Val: 0.5720, Test: 0.5740\n",
            "Training loss at epoch 33: 0.6315\n",
            "Epoch: 033, Train: 0.7857, Val: 0.5720, Test: 0.5740\n",
            "Training loss at epoch 34: 0.6029\n",
            "Epoch: 034, Train: 0.8143, Val: 0.5720, Test: 0.5740\n",
            "Training loss at epoch 35: 0.5699\n",
            "Epoch: 035, Train: 0.8214, Val: 0.5820, Test: 0.5690\n",
            "Training loss at epoch 36: 0.5380\n",
            "Epoch: 036, Train: 0.8357, Val: 0.5860, Test: 0.5770\n",
            "Training loss at epoch 37: 0.5094\n",
            "Epoch: 037, Train: 0.8500, Val: 0.5980, Test: 0.5850\n",
            "Training loss at epoch 38: 0.4796\n",
            "Epoch: 038, Train: 0.8429, Val: 0.5980, Test: 0.5850\n",
            "Training loss at epoch 39: 0.4531\n",
            "Epoch: 039, Train: 0.8786, Val: 0.5980, Test: 0.5850\n",
            "Training loss at epoch 40: 0.4267\n",
            "Epoch: 040, Train: 0.8643, Val: 0.5980, Test: 0.5850\n",
            "Training loss at epoch 41: 0.4058\n",
            "Epoch: 041, Train: 0.8857, Val: 0.5980, Test: 0.5850\n",
            "Training loss at epoch 42: 0.3740\n",
            "Epoch: 042, Train: 0.8786, Val: 0.5980, Test: 0.5850\n",
            "Training loss at epoch 43: 0.3621\n",
            "Epoch: 043, Train: 0.8786, Val: 0.5980, Test: 0.5850\n",
            "Training loss at epoch 44: 0.3614\n",
            "Epoch: 044, Train: 0.8929, Val: 0.5980, Test: 0.5850\n",
            "Training loss at epoch 45: 0.3170\n",
            "Epoch: 045, Train: 0.8786, Val: 0.5980, Test: 0.5850\n",
            "Training loss at epoch 46: 0.3351\n",
            "Epoch: 046, Train: 0.8500, Val: 0.5980, Test: 0.5850\n",
            "Training loss at epoch 47: 0.4243\n",
            "Epoch: 047, Train: 0.8214, Val: 0.5980, Test: 0.5850\n",
            "Training loss at epoch 48: 0.4371\n",
            "Epoch: 048, Train: 0.8643, Val: 0.6180, Test: 0.6350\n",
            "Training loss at epoch 49: 0.3429\n",
            "Epoch: 049, Train: 0.8857, Val: 0.6180, Test: 0.6350\n",
            "Training loss at epoch 50: 0.3071\n",
            "Epoch: 050, Train: 0.8714, Val: 0.6180, Test: 0.6350\n"
          ]
        }
      ]
    }
  ]
}
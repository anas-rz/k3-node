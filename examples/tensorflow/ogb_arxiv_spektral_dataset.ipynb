{
  "nbformat": 4,
  "nbformat_minor": 0,
  "metadata": {
    "colab": {
      "provenance": [],
      "gpuType": "T4"
    },
    "kernelspec": {
      "name": "python3",
      "display_name": "Python 3"
    },
    "language_info": {
      "name": "python"
    },
    "accelerator": "GPU"
  },
  "cells": [
    {
      "cell_type": "code",
      "execution_count": 2,
      "metadata": {
        "colab": {
          "base_uri": "https://localhost:8080/"
        },
        "id": "wXAnhBzBXlb9",
        "outputId": "aeeda725-3da4-482b-e2cc-fbccf92c392b"
      },
      "outputs": [
        {
          "output_type": "stream",
          "name": "stdout",
          "text": [
            "\u001b[2K     \u001b[90m━━━━━━━━━━━━━━━━━━━━━━━━━━━━━━━━━━━━━━━━\u001b[0m \u001b[32m140.1/140.1 kB\u001b[0m \u001b[31m2.9 MB/s\u001b[0m eta \u001b[36m0:00:00\u001b[0m\n",
            "\u001b[2K     \u001b[90m━━━━━━━━━━━━━━━━━━━━━━━━━━━━━━━━━━━━━━━━\u001b[0m \u001b[32m1.0/1.0 MB\u001b[0m \u001b[31m13.5 MB/s\u001b[0m eta \u001b[36m0:00:00\u001b[0m\n",
            "\u001b[?25h\u001b[31mERROR: pip's dependency resolver does not currently take into account all the packages that are installed. This behaviour is the source of the following dependency conflicts.\n",
            "tensorflow 2.15.0 requires keras<2.16,>=2.15.0, but you have keras 3.0.4 which is incompatible.\u001b[0m\u001b[31m\n",
            "\u001b[2K     \u001b[90m━━━━━━━━━━━━━━━━━━━━━━━━━━━━━━━━━━━━━━━━\u001b[0m \u001b[32m78.8/78.8 kB\u001b[0m \u001b[31m1.7 MB/s\u001b[0m eta \u001b[36m0:00:00\u001b[0m\n",
            "\u001b[?25h  Preparing metadata (setup.py) ... \u001b[?25l\u001b[?25hdone\n",
            "  Building wheel for littleutils (setup.py) ... \u001b[?25l\u001b[?25hdone\n"
          ]
        }
      ],
      "source": [
        "!pip install spektral -qq\n",
        "!pip install --upgrade keras -qq\n",
        "!pip install ogb -qq\n",
        "!git clone https://github.com/anas-rz/k3-node.git"
      ]
    },
    {
      "cell_type": "code",
      "source": [
        "import os, sys\n",
        "os.environ['KERAS_BACKEND'] = 'tensorflow'\n",
        "sys.path.append('/content/k3-node')"
      ],
      "metadata": {
        "id": "yzxVYCIsX_gd"
      },
      "execution_count": 4,
      "outputs": []
    },
    {
      "cell_type": "code",
      "source": [
        "import numpy as np\n",
        "from ogb.nodeproppred import NodePropPredDataset\n",
        "from keras.layers import BatchNormalization, Dropout, Input\n",
        "from keras.losses import SparseCategoricalCrossentropy\n",
        "from keras.models import Model\n",
        "from keras.optimizers import Adam\n",
        "\n",
        "from spektral.datasets.ogb import OGB\n",
        "from spektral.transforms import AdjToSpTensor, GCNFilter\n",
        "\n",
        "from k3_node.layers import ARMAConv"
      ],
      "metadata": {
        "id": "mbZH15A6X-t7"
      },
      "execution_count": 5,
      "outputs": []
    },
    {
      "cell_type": "code",
      "source": [
        "# Load data\n",
        "dataset_name = \"ogbn-arxiv\"\n",
        "ogb_dataset = NodePropPredDataset(dataset_name)\n",
        "dataset = OGB(ogb_dataset, transforms=[GCNFilter(), AdjToSpTensor()])\n",
        "graph = dataset[0]\n",
        "x, adj, y = graph.x, graph.a, graph.y"
      ],
      "metadata": {
        "colab": {
          "base_uri": "https://localhost:8080/"
        },
        "id": "ocEuvBs2ZYCu",
        "outputId": "6b51310f-575e-4858-820f-c59761db0eaf"
      },
      "execution_count": 6,
      "outputs": [
        {
          "output_type": "stream",
          "name": "stdout",
          "text": [
            "Downloading http://snap.stanford.edu/ogb/data/nodeproppred/arxiv.zip\n"
          ]
        },
        {
          "output_type": "stream",
          "name": "stderr",
          "text": [
            "Downloaded 0.08 GB: 100%|██████████| 81/81 [00:07<00:00, 10.39it/s]\n"
          ]
        },
        {
          "output_type": "stream",
          "name": "stdout",
          "text": [
            "Extracting dataset/arxiv.zip\n",
            "Loading necessary files...\n",
            "This might take a while.\n",
            "Processing graphs...\n"
          ]
        },
        {
          "output_type": "stream",
          "name": "stderr",
          "text": [
            "100%|██████████| 1/1 [00:00<00:00, 1729.61it/s]"
          ]
        },
        {
          "output_type": "stream",
          "name": "stdout",
          "text": [
            "Saving...\n"
          ]
        },
        {
          "output_type": "stream",
          "name": "stderr",
          "text": [
            "\n"
          ]
        }
      ]
    },
    {
      "cell_type": "code",
      "source": [
        "# Parameters\n",
        "channels = 256  # Number of channels for GCN layers\n",
        "dropout = 0.5  # Dropout rate for the features\n",
        "learning_rate = 1e-2  # Learning rate\n",
        "epochs = 10  # Number of training epochs\n",
        "N = dataset.n_nodes  # Number of nodes in the graph\n",
        "F = dataset.n_node_features  # Original size of node features\n",
        "n_out = ogb_dataset.num_classes  # OGB labels are sparse indices"
      ],
      "metadata": {
        "id": "pnvzMpIbYOiA"
      },
      "execution_count": 7,
      "outputs": []
    },
    {
      "cell_type": "code",
      "source": [
        "# Data splits\n",
        "idx = ogb_dataset.get_idx_split()\n",
        "idx_tr, idx_va, idx_te = idx[\"train\"], idx[\"valid\"], idx[\"test\"]\n",
        "mask_tr = np.zeros(N, dtype=bool)\n",
        "mask_va = np.zeros(N, dtype=bool)\n",
        "mask_te = np.zeros(N, dtype=bool)\n",
        "mask_tr[idx_tr] = True\n",
        "mask_va[idx_va] = True\n",
        "mask_te[idx_te] = True\n",
        "masks = [mask_tr, mask_va, mask_te]"
      ],
      "metadata": {
        "id": "lAZv1duXZUxT"
      },
      "execution_count": 8,
      "outputs": []
    },
    {
      "cell_type": "code",
      "source": [
        "# Model definition\n",
        "x_in = Input(shape=(F,))\n",
        "a_in = Input((N,), sparse=True)\n",
        "x_1 = ARMAConv(channels, activation=\"relu\")([x_in, a_in])\n",
        "x_1 = BatchNormalization()(x_1)\n",
        "x_1 = Dropout(dropout)(x_1)\n",
        "x_2 = ARMAConv(channels, activation=\"relu\")([x_1, a_in])\n",
        "x_2 = BatchNormalization()(x_2)\n",
        "x_2 = Dropout(dropout)(x_2)\n",
        "x_3 = ARMAConv(n_out, activation=\"softmax\")([x_2, a_in])"
      ],
      "metadata": {
        "id": "aOEaia9XZfh5"
      },
      "execution_count": 9,
      "outputs": []
    },
    {
      "cell_type": "code",
      "source": [
        "# Build model\n",
        "model = Model(inputs=[x_in, a_in], outputs=x_3)\n",
        "optimizer = Adam(learning_rate=learning_rate)\n",
        "loss_fn = SparseCategoricalCrossentropy()\n",
        "model.summary()"
      ],
      "metadata": {
        "colab": {
          "base_uri": "https://localhost:8080/",
          "height": 513
        },
        "id": "KF0eKrCotHfs",
        "outputId": "eb587a28-7a25-478a-a9ee-53115f771b44"
      },
      "execution_count": 10,
      "outputs": [
        {
          "output_type": "display_data",
          "data": {
            "text/plain": [
              "\u001b[1mModel: \"functional_1\"\u001b[0m\n"
            ],
            "text/html": [
              "<pre style=\"white-space:pre;overflow-x:auto;line-height:normal;font-family:Menlo,'DejaVu Sans Mono',consolas,'Courier New',monospace\"><span style=\"font-weight: bold\">Model: \"functional_1\"</span>\n",
              "</pre>\n"
            ]
          },
          "metadata": {}
        },
        {
          "output_type": "display_data",
          "data": {
            "text/plain": [
              "┏━━━━━━━━━━━━━━━━━━━━━━━━━━━┳━━━━━━━━━━━━━━━━━━━━━━━━┳━━━━━━━━━━━━┳━━━━━━━━━━━━━━━━━━━━━━━━━━━━┓\n",
              "┃\u001b[1m \u001b[0m\u001b[1mLayer (type)             \u001b[0m\u001b[1m \u001b[0m┃\u001b[1m \u001b[0m\u001b[1mOutput Shape          \u001b[0m\u001b[1m \u001b[0m┃\u001b[1m \u001b[0m\u001b[1m   Param #\u001b[0m\u001b[1m \u001b[0m┃\u001b[1m \u001b[0m\u001b[1mConnected to              \u001b[0m\u001b[1m \u001b[0m┃\n",
              "┡━━━━━━━━━━━━━━━━━━━━━━━━━━━╇━━━━━━━━━━━━━━━━━━━━━━━━╇━━━━━━━━━━━━╇━━━━━━━━━━━━━━━━━━━━━━━━━━━━┩\n",
              "│ input_layer (\u001b[38;5;33mInputLayer\u001b[0m)  │ (\u001b[38;5;45mNone\u001b[0m, \u001b[38;5;34m128\u001b[0m)            │          \u001b[38;5;34m0\u001b[0m │ -                          │\n",
              "├───────────────────────────┼────────────────────────┼────────────┼────────────────────────────┤\n",
              "│ input_layer_1             │ (\u001b[38;5;45mNone\u001b[0m, \u001b[38;5;34m169343\u001b[0m)         │          \u001b[38;5;34m0\u001b[0m │ -                          │\n",
              "│ (\u001b[38;5;33mInputLayer\u001b[0m)              │                        │            │                            │\n",
              "├───────────────────────────┼────────────────────────┼────────────┼────────────────────────────┤\n",
              "│ arma_conv (\u001b[38;5;33mARMAConv\u001b[0m)      │ (\u001b[38;5;45mNone\u001b[0m, \u001b[38;5;34m256\u001b[0m)            │     \u001b[38;5;34m65,792\u001b[0m │ input_layer[\u001b[38;5;34m0\u001b[0m][\u001b[38;5;34m0\u001b[0m],         │\n",
              "│                           │                        │            │ input_layer_1[\u001b[38;5;34m0\u001b[0m][\u001b[38;5;34m0\u001b[0m]        │\n",
              "├───────────────────────────┼────────────────────────┼────────────┼────────────────────────────┤\n",
              "│ batch_normalization       │ (\u001b[38;5;45mNone\u001b[0m, \u001b[38;5;34m256\u001b[0m)            │      \u001b[38;5;34m1,024\u001b[0m │ arma_conv[\u001b[38;5;34m0\u001b[0m][\u001b[38;5;34m0\u001b[0m]            │\n",
              "│ (\u001b[38;5;33mBatchNormalization\u001b[0m)      │                        │            │                            │\n",
              "├───────────────────────────┼────────────────────────┼────────────┼────────────────────────────┤\n",
              "│ dropout_1 (\u001b[38;5;33mDropout\u001b[0m)       │ (\u001b[38;5;45mNone\u001b[0m, \u001b[38;5;34m256\u001b[0m)            │          \u001b[38;5;34m0\u001b[0m │ batch_normalization[\u001b[38;5;34m0\u001b[0m][\u001b[38;5;34m0\u001b[0m]  │\n",
              "├───────────────────────────┼────────────────────────┼────────────┼────────────────────────────┤\n",
              "│ arma_conv_1 (\u001b[38;5;33mARMAConv\u001b[0m)    │ (\u001b[38;5;45mNone\u001b[0m, \u001b[38;5;34m256\u001b[0m)            │    \u001b[38;5;34m131,328\u001b[0m │ dropout_1[\u001b[38;5;34m0\u001b[0m][\u001b[38;5;34m0\u001b[0m],           │\n",
              "│                           │                        │            │ input_layer_1[\u001b[38;5;34m0\u001b[0m][\u001b[38;5;34m0\u001b[0m]        │\n",
              "├───────────────────────────┼────────────────────────┼────────────┼────────────────────────────┤\n",
              "│ batch_normalization_1     │ (\u001b[38;5;45mNone\u001b[0m, \u001b[38;5;34m256\u001b[0m)            │      \u001b[38;5;34m1,024\u001b[0m │ arma_conv_1[\u001b[38;5;34m0\u001b[0m][\u001b[38;5;34m0\u001b[0m]          │\n",
              "│ (\u001b[38;5;33mBatchNormalization\u001b[0m)      │                        │            │                            │\n",
              "├───────────────────────────┼────────────────────────┼────────────┼────────────────────────────┤\n",
              "│ dropout_3 (\u001b[38;5;33mDropout\u001b[0m)       │ (\u001b[38;5;45mNone\u001b[0m, \u001b[38;5;34m256\u001b[0m)            │          \u001b[38;5;34m0\u001b[0m │ batch_normalization_1[\u001b[38;5;34m0\u001b[0m][\u001b[38;5;34m…\u001b[0m │\n",
              "├───────────────────────────┼────────────────────────┼────────────┼────────────────────────────┤\n",
              "│ arma_conv_2 (\u001b[38;5;33mARMAConv\u001b[0m)    │ (\u001b[38;5;45mNone\u001b[0m, \u001b[38;5;34m40\u001b[0m)             │     \u001b[38;5;34m20,520\u001b[0m │ dropout_3[\u001b[38;5;34m0\u001b[0m][\u001b[38;5;34m0\u001b[0m],           │\n",
              "│                           │                        │            │ input_layer_1[\u001b[38;5;34m0\u001b[0m][\u001b[38;5;34m0\u001b[0m]        │\n",
              "└───────────────────────────┴────────────────────────┴────────────┴────────────────────────────┘\n"
            ],
            "text/html": [
              "<pre style=\"white-space:pre;overflow-x:auto;line-height:normal;font-family:Menlo,'DejaVu Sans Mono',consolas,'Courier New',monospace\">┏━━━━━━━━━━━━━━━━━━━━━━━━━━━┳━━━━━━━━━━━━━━━━━━━━━━━━┳━━━━━━━━━━━━┳━━━━━━━━━━━━━━━━━━━━━━━━━━━━┓\n",
              "┃<span style=\"font-weight: bold\"> Layer (type)              </span>┃<span style=\"font-weight: bold\"> Output Shape           </span>┃<span style=\"font-weight: bold\">    Param # </span>┃<span style=\"font-weight: bold\"> Connected to               </span>┃\n",
              "┡━━━━━━━━━━━━━━━━━━━━━━━━━━━╇━━━━━━━━━━━━━━━━━━━━━━━━╇━━━━━━━━━━━━╇━━━━━━━━━━━━━━━━━━━━━━━━━━━━┩\n",
              "│ input_layer (<span style=\"color: #0087ff; text-decoration-color: #0087ff\">InputLayer</span>)  │ (<span style=\"color: #00d7ff; text-decoration-color: #00d7ff\">None</span>, <span style=\"color: #00af00; text-decoration-color: #00af00\">128</span>)            │          <span style=\"color: #00af00; text-decoration-color: #00af00\">0</span> │ -                          │\n",
              "├───────────────────────────┼────────────────────────┼────────────┼────────────────────────────┤\n",
              "│ input_layer_1             │ (<span style=\"color: #00d7ff; text-decoration-color: #00d7ff\">None</span>, <span style=\"color: #00af00; text-decoration-color: #00af00\">169343</span>)         │          <span style=\"color: #00af00; text-decoration-color: #00af00\">0</span> │ -                          │\n",
              "│ (<span style=\"color: #0087ff; text-decoration-color: #0087ff\">InputLayer</span>)              │                        │            │                            │\n",
              "├───────────────────────────┼────────────────────────┼────────────┼────────────────────────────┤\n",
              "│ arma_conv (<span style=\"color: #0087ff; text-decoration-color: #0087ff\">ARMAConv</span>)      │ (<span style=\"color: #00d7ff; text-decoration-color: #00d7ff\">None</span>, <span style=\"color: #00af00; text-decoration-color: #00af00\">256</span>)            │     <span style=\"color: #00af00; text-decoration-color: #00af00\">65,792</span> │ input_layer[<span style=\"color: #00af00; text-decoration-color: #00af00\">0</span>][<span style=\"color: #00af00; text-decoration-color: #00af00\">0</span>],         │\n",
              "│                           │                        │            │ input_layer_1[<span style=\"color: #00af00; text-decoration-color: #00af00\">0</span>][<span style=\"color: #00af00; text-decoration-color: #00af00\">0</span>]        │\n",
              "├───────────────────────────┼────────────────────────┼────────────┼────────────────────────────┤\n",
              "│ batch_normalization       │ (<span style=\"color: #00d7ff; text-decoration-color: #00d7ff\">None</span>, <span style=\"color: #00af00; text-decoration-color: #00af00\">256</span>)            │      <span style=\"color: #00af00; text-decoration-color: #00af00\">1,024</span> │ arma_conv[<span style=\"color: #00af00; text-decoration-color: #00af00\">0</span>][<span style=\"color: #00af00; text-decoration-color: #00af00\">0</span>]            │\n",
              "│ (<span style=\"color: #0087ff; text-decoration-color: #0087ff\">BatchNormalization</span>)      │                        │            │                            │\n",
              "├───────────────────────────┼────────────────────────┼────────────┼────────────────────────────┤\n",
              "│ dropout_1 (<span style=\"color: #0087ff; text-decoration-color: #0087ff\">Dropout</span>)       │ (<span style=\"color: #00d7ff; text-decoration-color: #00d7ff\">None</span>, <span style=\"color: #00af00; text-decoration-color: #00af00\">256</span>)            │          <span style=\"color: #00af00; text-decoration-color: #00af00\">0</span> │ batch_normalization[<span style=\"color: #00af00; text-decoration-color: #00af00\">0</span>][<span style=\"color: #00af00; text-decoration-color: #00af00\">0</span>]  │\n",
              "├───────────────────────────┼────────────────────────┼────────────┼────────────────────────────┤\n",
              "│ arma_conv_1 (<span style=\"color: #0087ff; text-decoration-color: #0087ff\">ARMAConv</span>)    │ (<span style=\"color: #00d7ff; text-decoration-color: #00d7ff\">None</span>, <span style=\"color: #00af00; text-decoration-color: #00af00\">256</span>)            │    <span style=\"color: #00af00; text-decoration-color: #00af00\">131,328</span> │ dropout_1[<span style=\"color: #00af00; text-decoration-color: #00af00\">0</span>][<span style=\"color: #00af00; text-decoration-color: #00af00\">0</span>],           │\n",
              "│                           │                        │            │ input_layer_1[<span style=\"color: #00af00; text-decoration-color: #00af00\">0</span>][<span style=\"color: #00af00; text-decoration-color: #00af00\">0</span>]        │\n",
              "├───────────────────────────┼────────────────────────┼────────────┼────────────────────────────┤\n",
              "│ batch_normalization_1     │ (<span style=\"color: #00d7ff; text-decoration-color: #00d7ff\">None</span>, <span style=\"color: #00af00; text-decoration-color: #00af00\">256</span>)            │      <span style=\"color: #00af00; text-decoration-color: #00af00\">1,024</span> │ arma_conv_1[<span style=\"color: #00af00; text-decoration-color: #00af00\">0</span>][<span style=\"color: #00af00; text-decoration-color: #00af00\">0</span>]          │\n",
              "│ (<span style=\"color: #0087ff; text-decoration-color: #0087ff\">BatchNormalization</span>)      │                        │            │                            │\n",
              "├───────────────────────────┼────────────────────────┼────────────┼────────────────────────────┤\n",
              "│ dropout_3 (<span style=\"color: #0087ff; text-decoration-color: #0087ff\">Dropout</span>)       │ (<span style=\"color: #00d7ff; text-decoration-color: #00d7ff\">None</span>, <span style=\"color: #00af00; text-decoration-color: #00af00\">256</span>)            │          <span style=\"color: #00af00; text-decoration-color: #00af00\">0</span> │ batch_normalization_1[<span style=\"color: #00af00; text-decoration-color: #00af00\">0</span>][<span style=\"color: #00af00; text-decoration-color: #00af00\">…</span> │\n",
              "├───────────────────────────┼────────────────────────┼────────────┼────────────────────────────┤\n",
              "│ arma_conv_2 (<span style=\"color: #0087ff; text-decoration-color: #0087ff\">ARMAConv</span>)    │ (<span style=\"color: #00d7ff; text-decoration-color: #00d7ff\">None</span>, <span style=\"color: #00af00; text-decoration-color: #00af00\">40</span>)             │     <span style=\"color: #00af00; text-decoration-color: #00af00\">20,520</span> │ dropout_3[<span style=\"color: #00af00; text-decoration-color: #00af00\">0</span>][<span style=\"color: #00af00; text-decoration-color: #00af00\">0</span>],           │\n",
              "│                           │                        │            │ input_layer_1[<span style=\"color: #00af00; text-decoration-color: #00af00\">0</span>][<span style=\"color: #00af00; text-decoration-color: #00af00\">0</span>]        │\n",
              "└───────────────────────────┴────────────────────────┴────────────┴────────────────────────────┘\n",
              "</pre>\n"
            ]
          },
          "metadata": {}
        },
        {
          "output_type": "display_data",
          "data": {
            "text/plain": [
              "\u001b[1m Total params: \u001b[0m\u001b[38;5;34m219,688\u001b[0m (858.16 KB)\n"
            ],
            "text/html": [
              "<pre style=\"white-space:pre;overflow-x:auto;line-height:normal;font-family:Menlo,'DejaVu Sans Mono',consolas,'Courier New',monospace\"><span style=\"font-weight: bold\"> Total params: </span><span style=\"color: #00af00; text-decoration-color: #00af00\">219,688</span> (858.16 KB)\n",
              "</pre>\n"
            ]
          },
          "metadata": {}
        },
        {
          "output_type": "display_data",
          "data": {
            "text/plain": [
              "\u001b[1m Trainable params: \u001b[0m\u001b[38;5;34m218,664\u001b[0m (854.16 KB)\n"
            ],
            "text/html": [
              "<pre style=\"white-space:pre;overflow-x:auto;line-height:normal;font-family:Menlo,'DejaVu Sans Mono',consolas,'Courier New',monospace\"><span style=\"font-weight: bold\"> Trainable params: </span><span style=\"color: #00af00; text-decoration-color: #00af00\">218,664</span> (854.16 KB)\n",
              "</pre>\n"
            ]
          },
          "metadata": {}
        },
        {
          "output_type": "display_data",
          "data": {
            "text/plain": [
              "\u001b[1m Non-trainable params: \u001b[0m\u001b[38;5;34m1,024\u001b[0m (4.00 KB)\n"
            ],
            "text/html": [
              "<pre style=\"white-space:pre;overflow-x:auto;line-height:normal;font-family:Menlo,'DejaVu Sans Mono',consolas,'Courier New',monospace\"><span style=\"font-weight: bold\"> Non-trainable params: </span><span style=\"color: #00af00; text-decoration-color: #00af00\">1,024</span> (4.00 KB)\n",
              "</pre>\n"
            ]
          },
          "metadata": {}
        }
      ]
    },
    {
      "cell_type": "code",
      "source": [
        "import tensorflow as tf\n",
        "# Training function\n",
        "@tf.function\n",
        "def train(inputs, target, mask):\n",
        "    with tf.GradientTape() as tape:\n",
        "        predictions = model(inputs, training=True)\n",
        "        loss = loss_fn(target[mask], predictions[mask]) + sum(model.losses)\n",
        "    gradients = tape.gradient(loss, model.trainable_variables)\n",
        "    optimizer.apply_gradients(zip(gradients, model.trainable_variables))\n",
        "    return loss"
      ],
      "metadata": {
        "id": "UcFPX-GsZzDS"
      },
      "execution_count": 11,
      "outputs": []
    },
    {
      "cell_type": "code",
      "source": [
        "@tf.function\n",
        "def evaluate(inputs, target, mask):\n",
        "    predictions = model(inputs, training=True)\n",
        "    loss = loss_fn(target[mask], predictions[mask]) + sum(model.losses)\n",
        "    return loss"
      ],
      "metadata": {
        "id": "cB5XIoByt_uf"
      },
      "execution_count": 14,
      "outputs": []
    },
    {
      "cell_type": "code",
      "source": [
        "# Train model\n",
        "for i in range(1, 1 + epochs):\n",
        "    tr_loss = train([x, adj], y, mask_tr)\n",
        "    eval_loss = evaluate([x, adj], y, mask_va) # TODO Add more metrics\n",
        "    print(f\"EPOCH {i}: Training Loss {tr_loss.numpy()}, Validation Loss: {eval_loss}\")\n",
        "test_loss = evaluate([x, adj], y, mask_te)\n",
        "print(f\"Test Loss: {test_loss}\")"
      ],
      "metadata": {
        "colab": {
          "base_uri": "https://localhost:8080/"
        },
        "id": "9xMwOgFCaCXb",
        "outputId": "7e61883e-718f-49c2-99da-7de81168f048"
      },
      "execution_count": 15,
      "outputs": [
        {
          "output_type": "stream",
          "name": "stdout",
          "text": [
            "EPOCH 1: Training Loss 1.343968152999878, Evaluation Loss: 1.2462656497955322\n",
            "EPOCH 2: Training Loss 1.3407444953918457, Evaluation Loss: 1.241466999053955\n",
            "EPOCH 3: Training Loss 1.338334083557129, Evaluation Loss: 1.2379639148712158\n",
            "EPOCH 4: Training Loss 1.3329962491989136, Evaluation Loss: 1.2300032377243042\n",
            "EPOCH 5: Training Loss 1.3284363746643066, Evaluation Loss: 1.237213373184204\n",
            "EPOCH 6: Training Loss 1.3322268724441528, Evaluation Loss: 1.2309643030166626\n",
            "EPOCH 7: Training Loss 1.3203994035720825, Evaluation Loss: 1.2292847633361816\n",
            "EPOCH 8: Training Loss 1.3217833042144775, Evaluation Loss: 1.224158525466919\n",
            "EPOCH 9: Training Loss 1.3212112188339233, Evaluation Loss: 1.2227007150650024\n",
            "EPOCH 10: Training Loss 1.3170732259750366, Evaluation Loss: 1.2200335264205933\n",
            "EPOCH 11: Training Loss 1.3163007497787476, Evaluation Loss: 1.2167840003967285\n",
            "EPOCH 12: Training Loss 1.3103758096694946, Evaluation Loss: 1.2180887460708618\n",
            "EPOCH 13: Training Loss 1.3075199127197266, Evaluation Loss: 1.2173337936401367\n",
            "EPOCH 14: Training Loss 1.3036202192306519, Evaluation Loss: 1.2160545587539673\n",
            "EPOCH 15: Training Loss 1.3011772632598877, Evaluation Loss: 1.213066577911377\n",
            "EPOCH 16: Training Loss 1.3017973899841309, Evaluation Loss: 1.2167952060699463\n",
            "EPOCH 17: Training Loss 1.295255422592163, Evaluation Loss: 1.2056578397750854\n",
            "EPOCH 18: Training Loss 1.2955594062805176, Evaluation Loss: 1.2049881219863892\n",
            "EPOCH 19: Training Loss 1.2907240390777588, Evaluation Loss: 1.2074908018112183\n",
            "EPOCH 20: Training Loss 1.2930302619934082, Evaluation Loss: 1.200783610343933\n",
            "EPOCH 21: Training Loss 1.2931593656539917, Evaluation Loss: 1.2038325071334839\n",
            "EPOCH 22: Training Loss 1.2872095108032227, Evaluation Loss: 1.2005423307418823\n",
            "EPOCH 23: Training Loss 1.286819577217102, Evaluation Loss: 1.1999480724334717\n",
            "EPOCH 24: Training Loss 1.2857940196990967, Evaluation Loss: 1.2016031742095947\n",
            "EPOCH 25: Training Loss 1.2853269577026367, Evaluation Loss: 1.1922523975372314\n",
            "EPOCH 26: Training Loss 1.2793952226638794, Evaluation Loss: 1.1948654651641846\n",
            "EPOCH 27: Training Loss 1.2806533575057983, Evaluation Loss: 1.196422815322876\n",
            "EPOCH 28: Training Loss 1.2788684368133545, Evaluation Loss: 1.1900291442871094\n",
            "EPOCH 29: Training Loss 1.274163007736206, Evaluation Loss: 1.1899875402450562\n",
            "EPOCH 30: Training Loss 1.2697093486785889, Evaluation Loss: 1.189235806465149\n",
            "EPOCH 31: Training Loss 1.2685577869415283, Evaluation Loss: 1.1936194896697998\n",
            "EPOCH 32: Training Loss 1.2654473781585693, Evaluation Loss: 1.191003441810608\n",
            "EPOCH 33: Training Loss 1.262274146080017, Evaluation Loss: 1.1850650310516357\n",
            "EPOCH 34: Training Loss 1.2667896747589111, Evaluation Loss: 1.1862106323242188\n",
            "EPOCH 35: Training Loss 1.2582966089248657, Evaluation Loss: 1.188792109489441\n",
            "EPOCH 36: Training Loss 1.2585945129394531, Evaluation Loss: 1.1826118230819702\n",
            "EPOCH 37: Training Loss 1.2562246322631836, Evaluation Loss: 1.1840636730194092\n",
            "EPOCH 38: Training Loss 1.2553882598876953, Evaluation Loss: 1.185907006263733\n",
            "EPOCH 39: Training Loss 1.253285527229309, Evaluation Loss: 1.1801916360855103\n",
            "EPOCH 40: Training Loss 1.2488805055618286, Evaluation Loss: 1.1805440187454224\n",
            "EPOCH 41: Training Loss 1.2539561986923218, Evaluation Loss: 1.1782232522964478\n",
            "EPOCH 42: Training Loss 1.2509801387786865, Evaluation Loss: 1.1813881397247314\n",
            "EPOCH 43: Training Loss 1.2528289556503296, Evaluation Loss: 1.167951226234436\n",
            "EPOCH 44: Training Loss 1.2493401765823364, Evaluation Loss: 1.1701750755310059\n",
            "EPOCH 45: Training Loss 1.244041919708252, Evaluation Loss: 1.1741365194320679\n",
            "EPOCH 46: Training Loss 1.2472470998764038, Evaluation Loss: 1.1781989336013794\n",
            "EPOCH 47: Training Loss 1.2440145015716553, Evaluation Loss: 1.1658953428268433\n",
            "EPOCH 48: Training Loss 1.2413067817687988, Evaluation Loss: 1.1640679836273193\n",
            "EPOCH 49: Training Loss 1.240422010421753, Evaluation Loss: 1.1680514812469482\n",
            "EPOCH 50: Training Loss 1.2380578517913818, Evaluation Loss: 1.1835696697235107\n",
            "EPOCH 51: Training Loss 1.2336461544036865, Evaluation Loss: 1.1746398210525513\n",
            "EPOCH 52: Training Loss 1.2356010675430298, Evaluation Loss: 1.16957426071167\n",
            "EPOCH 53: Training Loss 1.2290376424789429, Evaluation Loss: 1.1671991348266602\n",
            "EPOCH 54: Training Loss 1.232879400253296, Evaluation Loss: 1.1642690896987915\n",
            "EPOCH 55: Training Loss 1.23086416721344, Evaluation Loss: 1.16635000705719\n",
            "EPOCH 56: Training Loss 1.227342128753662, Evaluation Loss: 1.1652904748916626\n",
            "EPOCH 57: Training Loss 1.2272106409072876, Evaluation Loss: 1.1650925874710083\n",
            "EPOCH 58: Training Loss 1.2221843004226685, Evaluation Loss: 1.1629396677017212\n",
            "EPOCH 59: Training Loss 1.2247458696365356, Evaluation Loss: 1.1609596014022827\n",
            "EPOCH 60: Training Loss 1.2173653841018677, Evaluation Loss: 1.1646232604980469\n",
            "EPOCH 61: Training Loss 1.2209794521331787, Evaluation Loss: 1.1558748483657837\n",
            "EPOCH 62: Training Loss 1.2182937860488892, Evaluation Loss: 1.1589595079421997\n",
            "EPOCH 63: Training Loss 1.2231639623641968, Evaluation Loss: 1.1621928215026855\n",
            "EPOCH 64: Training Loss 1.2182984352111816, Evaluation Loss: 1.1552661657333374\n",
            "EPOCH 65: Training Loss 1.2148618698120117, Evaluation Loss: 1.156823992729187\n",
            "EPOCH 66: Training Loss 1.2155942916870117, Evaluation Loss: 1.1569279432296753\n",
            "EPOCH 67: Training Loss 1.2143537998199463, Evaluation Loss: 1.1575669050216675\n",
            "EPOCH 68: Training Loss 1.2087693214416504, Evaluation Loss: 1.162759780883789\n",
            "EPOCH 69: Training Loss 1.2056043148040771, Evaluation Loss: 1.1534134149551392\n",
            "EPOCH 70: Training Loss 1.2079509496688843, Evaluation Loss: 1.1515107154846191\n",
            "EPOCH 71: Training Loss 1.2094837427139282, Evaluation Loss: 1.150747299194336\n",
            "EPOCH 72: Training Loss 1.2086564302444458, Evaluation Loss: 1.1568139791488647\n",
            "EPOCH 73: Training Loss 1.2071341276168823, Evaluation Loss: 1.1545372009277344\n",
            "EPOCH 74: Training Loss 1.2031331062316895, Evaluation Loss: 1.1471201181411743\n",
            "EPOCH 75: Training Loss 1.2016373872756958, Evaluation Loss: 1.153423547744751\n",
            "EPOCH 76: Training Loss 1.203179955482483, Evaluation Loss: 1.1501140594482422\n",
            "EPOCH 77: Training Loss 1.1999306678771973, Evaluation Loss: 1.156440258026123\n",
            "EPOCH 78: Training Loss 1.1977903842926025, Evaluation Loss: 1.1564561128616333\n",
            "EPOCH 79: Training Loss 1.2000869512557983, Evaluation Loss: 1.1439507007598877\n",
            "EPOCH 80: Training Loss 1.1976749897003174, Evaluation Loss: 1.1401035785675049\n",
            "EPOCH 81: Training Loss 1.19704270362854, Evaluation Loss: 1.1429270505905151\n",
            "EPOCH 82: Training Loss 1.191582441329956, Evaluation Loss: 1.1445260047912598\n",
            "EPOCH 83: Training Loss 1.1928461790084839, Evaluation Loss: 1.1482620239257812\n",
            "EPOCH 84: Training Loss 1.1942768096923828, Evaluation Loss: 1.1485987901687622\n",
            "EPOCH 85: Training Loss 1.1876939535140991, Evaluation Loss: 1.1478886604309082\n",
            "EPOCH 86: Training Loss 1.1894065141677856, Evaluation Loss: 1.1400256156921387\n",
            "EPOCH 87: Training Loss 1.1881630420684814, Evaluation Loss: 1.143480896949768\n",
            "EPOCH 88: Training Loss 1.1839499473571777, Evaluation Loss: 1.1445138454437256\n",
            "EPOCH 89: Training Loss 1.1854757070541382, Evaluation Loss: 1.1518117189407349\n",
            "EPOCH 90: Training Loss 1.1837586164474487, Evaluation Loss: 1.1440669298171997\n",
            "EPOCH 91: Training Loss 1.1838250160217285, Evaluation Loss: 1.1397724151611328\n",
            "EPOCH 92: Training Loss 1.1838958263397217, Evaluation Loss: 1.139458179473877\n",
            "EPOCH 93: Training Loss 1.180532455444336, Evaluation Loss: 1.1360794305801392\n",
            "EPOCH 94: Training Loss 1.1817153692245483, Evaluation Loss: 1.147121787071228\n",
            "EPOCH 95: Training Loss 1.1806753873825073, Evaluation Loss: 1.1423988342285156\n",
            "EPOCH 96: Training Loss 1.1792314052581787, Evaluation Loss: 1.1376110315322876\n",
            "EPOCH 97: Training Loss 1.1768313646316528, Evaluation Loss: 1.1376444101333618\n",
            "EPOCH 98: Training Loss 1.1724395751953125, Evaluation Loss: 1.1391268968582153\n",
            "EPOCH 99: Training Loss 1.1750307083129883, Evaluation Loss: 1.1442276239395142\n",
            "EPOCH 100: Training Loss 1.1763265132904053, Evaluation Loss: 1.141550898551941\n",
            "EPOCH 101: Training Loss 1.1729196310043335, Evaluation Loss: 1.133660912513733\n",
            "EPOCH 102: Training Loss 1.1685675382614136, Evaluation Loss: 1.1281309127807617\n",
            "EPOCH 103: Training Loss 1.1721997261047363, Evaluation Loss: 1.1429003477096558\n",
            "EPOCH 104: Training Loss 1.1691055297851562, Evaluation Loss: 1.1407463550567627\n",
            "EPOCH 105: Training Loss 1.1691492795944214, Evaluation Loss: 1.1442208290100098\n",
            "EPOCH 106: Training Loss 1.1664432287216187, Evaluation Loss: 1.1354434490203857\n",
            "EPOCH 107: Training Loss 1.1727550029754639, Evaluation Loss: 1.1348450183868408\n",
            "EPOCH 108: Training Loss 1.165586233139038, Evaluation Loss: 1.1364871263504028\n",
            "EPOCH 109: Training Loss 1.1673862934112549, Evaluation Loss: 1.1371937990188599\n",
            "EPOCH 110: Training Loss 1.1658077239990234, Evaluation Loss: 1.127919316291809\n",
            "EPOCH 111: Training Loss 1.165792465209961, Evaluation Loss: 1.139858365058899\n",
            "EPOCH 112: Training Loss 1.1582239866256714, Evaluation Loss: 1.1323490142822266\n",
            "EPOCH 113: Training Loss 1.1628038883209229, Evaluation Loss: 1.1309490203857422\n",
            "EPOCH 114: Training Loss 1.159339189529419, Evaluation Loss: 1.1338818073272705\n",
            "EPOCH 115: Training Loss 1.1601680517196655, Evaluation Loss: 1.1330444812774658\n",
            "EPOCH 116: Training Loss 1.1593488454818726, Evaluation Loss: 1.129304051399231\n",
            "EPOCH 117: Training Loss 1.155964970588684, Evaluation Loss: 1.1270959377288818\n",
            "EPOCH 118: Training Loss 1.156042218208313, Evaluation Loss: 1.1266369819641113\n",
            "EPOCH 119: Training Loss 1.1534380912780762, Evaluation Loss: 1.13417649269104\n",
            "EPOCH 120: Training Loss 1.1545157432556152, Evaluation Loss: 1.1323471069335938\n",
            "EPOCH 121: Training Loss 1.1506963968276978, Evaluation Loss: 1.1373342275619507\n",
            "EPOCH 122: Training Loss 1.1520096063613892, Evaluation Loss: 1.1307202577590942\n",
            "EPOCH 123: Training Loss 1.1525866985321045, Evaluation Loss: 1.1248513460159302\n",
            "EPOCH 124: Training Loss 1.150022029876709, Evaluation Loss: 1.1291890144348145\n",
            "EPOCH 125: Training Loss 1.1469457149505615, Evaluation Loss: 1.1279594898223877\n",
            "EPOCH 126: Training Loss 1.1459572315216064, Evaluation Loss: 1.127188801765442\n",
            "EPOCH 127: Training Loss 1.1488213539123535, Evaluation Loss: 1.1312918663024902\n",
            "EPOCH 128: Training Loss 1.147648811340332, Evaluation Loss: 1.1245183944702148\n",
            "EPOCH 129: Training Loss 1.146965503692627, Evaluation Loss: 1.1218510866165161\n",
            "EPOCH 130: Training Loss 1.1456962823867798, Evaluation Loss: 1.1241564750671387\n",
            "EPOCH 131: Training Loss 1.1493399143218994, Evaluation Loss: 1.130565881729126\n",
            "EPOCH 132: Training Loss 1.1447259187698364, Evaluation Loss: 1.123030424118042\n",
            "EPOCH 133: Training Loss 1.1412725448608398, Evaluation Loss: 1.1290243864059448\n",
            "EPOCH 134: Training Loss 1.141115427017212, Evaluation Loss: 1.131544589996338\n",
            "EPOCH 135: Training Loss 1.1434208154678345, Evaluation Loss: 1.1288244724273682\n",
            "EPOCH 136: Training Loss 1.1360381841659546, Evaluation Loss: 1.1310845613479614\n",
            "EPOCH 137: Training Loss 1.1382800340652466, Evaluation Loss: 1.1202701330184937\n",
            "EPOCH 138: Training Loss 1.1365982294082642, Evaluation Loss: 1.1214467287063599\n",
            "EPOCH 139: Training Loss 1.140426516532898, Evaluation Loss: 1.1303333044052124\n",
            "EPOCH 140: Training Loss 1.1366674900054932, Evaluation Loss: 1.1234158277511597\n",
            "EPOCH 141: Training Loss 1.1350899934768677, Evaluation Loss: 1.1290940046310425\n",
            "EPOCH 142: Training Loss 1.1359602212905884, Evaluation Loss: 1.1233365535736084\n",
            "EPOCH 143: Training Loss 1.138283371925354, Evaluation Loss: 1.1229811906814575\n",
            "EPOCH 144: Training Loss 1.1357760429382324, Evaluation Loss: 1.126729965209961\n",
            "EPOCH 145: Training Loss 1.1345313787460327, Evaluation Loss: 1.122592806816101\n",
            "EPOCH 146: Training Loss 1.133407711982727, Evaluation Loss: 1.1308513879776\n",
            "EPOCH 147: Training Loss 1.1358075141906738, Evaluation Loss: 1.1275898218154907\n",
            "EPOCH 148: Training Loss 1.1294511556625366, Evaluation Loss: 1.1194744110107422\n",
            "EPOCH 149: Training Loss 1.1318529844284058, Evaluation Loss: 1.1148864030838013\n",
            "EPOCH 150: Training Loss 1.127889633178711, Evaluation Loss: 1.1187329292297363\n",
            "EPOCH 151: Training Loss 1.1308988332748413, Evaluation Loss: 1.1232542991638184\n",
            "EPOCH 152: Training Loss 1.1262625455856323, Evaluation Loss: 1.1254271268844604\n",
            "EPOCH 153: Training Loss 1.1278579235076904, Evaluation Loss: 1.11946439743042\n",
            "EPOCH 154: Training Loss 1.1291204690933228, Evaluation Loss: 1.1190739870071411\n",
            "EPOCH 155: Training Loss 1.1239409446716309, Evaluation Loss: 1.1284868717193604\n",
            "EPOCH 156: Training Loss 1.1257517337799072, Evaluation Loss: 1.12908935546875\n",
            "EPOCH 157: Training Loss 1.1231430768966675, Evaluation Loss: 1.123958945274353\n",
            "EPOCH 158: Training Loss 1.1225775480270386, Evaluation Loss: 1.118422031402588\n",
            "EPOCH 159: Training Loss 1.1209810972213745, Evaluation Loss: 1.114637851715088\n",
            "EPOCH 160: Training Loss 1.1220612525939941, Evaluation Loss: 1.1251955032348633\n",
            "EPOCH 161: Training Loss 1.1266714334487915, Evaluation Loss: 1.1303393840789795\n",
            "EPOCH 162: Training Loss 1.1215208768844604, Evaluation Loss: 1.1260470151901245\n",
            "EPOCH 163: Training Loss 1.120133399963379, Evaluation Loss: 1.1148878335952759\n",
            "EPOCH 164: Training Loss 1.1167982816696167, Evaluation Loss: 1.1184626817703247\n",
            "EPOCH 165: Training Loss 1.116864800453186, Evaluation Loss: 1.1216264963150024\n",
            "EPOCH 166: Training Loss 1.1201294660568237, Evaluation Loss: 1.1290651559829712\n",
            "EPOCH 167: Training Loss 1.1184347867965698, Evaluation Loss: 1.119104266166687\n",
            "EPOCH 168: Training Loss 1.1180490255355835, Evaluation Loss: 1.1255083084106445\n",
            "EPOCH 169: Training Loss 1.1150237321853638, Evaluation Loss: 1.1204171180725098\n",
            "EPOCH 170: Training Loss 1.1193068027496338, Evaluation Loss: 1.121778964996338\n",
            "EPOCH 171: Training Loss 1.1186691522598267, Evaluation Loss: 1.120563268661499\n",
            "EPOCH 172: Training Loss 1.1165233850479126, Evaluation Loss: 1.1149044036865234\n",
            "EPOCH 173: Training Loss 1.115480899810791, Evaluation Loss: 1.119268774986267\n",
            "EPOCH 174: Training Loss 1.1154018640518188, Evaluation Loss: 1.119484782218933\n",
            "EPOCH 175: Training Loss 1.1063823699951172, Evaluation Loss: 1.1167292594909668\n",
            "EPOCH 176: Training Loss 1.1138660907745361, Evaluation Loss: 1.1154742240905762\n",
            "EPOCH 177: Training Loss 1.1103399991989136, Evaluation Loss: 1.121840238571167\n",
            "EPOCH 178: Training Loss 1.1077386140823364, Evaluation Loss: 1.122541069984436\n",
            "EPOCH 179: Training Loss 1.110600233078003, Evaluation Loss: 1.1207677125930786\n",
            "EPOCH 180: Training Loss 1.109299898147583, Evaluation Loss: 1.116254448890686\n",
            "EPOCH 181: Training Loss 1.1082557439804077, Evaluation Loss: 1.1165771484375\n",
            "EPOCH 182: Training Loss 1.1091172695159912, Evaluation Loss: 1.1220672130584717\n",
            "EPOCH 183: Training Loss 1.1081079244613647, Evaluation Loss: 1.1194764375686646\n",
            "EPOCH 184: Training Loss 1.1019024848937988, Evaluation Loss: 1.1149858236312866\n",
            "EPOCH 185: Training Loss 1.1080683469772339, Evaluation Loss: 1.1176785230636597\n",
            "EPOCH 186: Training Loss 1.1048808097839355, Evaluation Loss: 1.1151202917099\n",
            "EPOCH 187: Training Loss 1.1047632694244385, Evaluation Loss: 1.1196645498275757\n",
            "EPOCH 188: Training Loss 1.1050622463226318, Evaluation Loss: 1.1152504682540894\n",
            "EPOCH 189: Training Loss 1.1066173315048218, Evaluation Loss: 1.120668888092041\n",
            "EPOCH 190: Training Loss 1.1041494607925415, Evaluation Loss: 1.1129399538040161\n",
            "EPOCH 191: Training Loss 1.100730538368225, Evaluation Loss: 1.1112099885940552\n",
            "EPOCH 192: Training Loss 1.1020851135253906, Evaluation Loss: 1.1168240308761597\n",
            "EPOCH 193: Training Loss 1.101409673690796, Evaluation Loss: 1.11477792263031\n",
            "EPOCH 194: Training Loss 1.098093867301941, Evaluation Loss: 1.1166558265686035\n",
            "EPOCH 195: Training Loss 1.0986965894699097, Evaluation Loss: 1.1081085205078125\n",
            "EPOCH 196: Training Loss 1.0999224185943604, Evaluation Loss: 1.1094266176223755\n",
            "EPOCH 197: Training Loss 1.0951982736587524, Evaluation Loss: 1.1203688383102417\n",
            "EPOCH 198: Training Loss 1.0958439111709595, Evaluation Loss: 1.1238856315612793\n",
            "EPOCH 199: Training Loss 1.0944143533706665, Evaluation Loss: 1.117491364479065\n",
            "EPOCH 200: Training Loss 1.0920244455337524, Evaluation Loss: 1.1169641017913818\n",
            "Test Loss: 1.064193606376648\n"
          ]
        }
      ]
    },
    {
      "cell_type": "code",
      "source": [],
      "metadata": {
        "id": "_BimRU1Auvc_"
      },
      "execution_count": null,
      "outputs": []
    }
  ]
}
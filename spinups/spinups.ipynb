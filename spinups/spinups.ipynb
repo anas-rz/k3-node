{
  "nbformat": 4,
  "nbformat_minor": 0,
  "metadata": {
    "colab": {
      "provenance": []
    },
    "kernelspec": {
      "name": "python3",
      "display_name": "Python 3"
    },
    "language_info": {
      "name": "python"
    }
  },
  "cells": [
    {
      "cell_type": "code",
      "execution_count": 1,
      "metadata": {
        "colab": {
          "base_uri": "https://localhost:8080/"
        },
        "id": "B5G8-QTIzmGx",
        "outputId": "5cb8271d-e557-493e-b250-7bd19367dfda"
      },
      "outputs": [
        {
          "output_type": "stream",
          "name": "stdout",
          "text": [
            "Cloning into 'k3-node'...\n",
            "remote: Enumerating objects: 27, done.\u001b[K\n",
            "remote: Counting objects: 100% (27/27), done.\u001b[K\n",
            "remote: Compressing objects: 100% (17/17), done.\u001b[K\n",
            "remote: Total 27 (delta 5), reused 27 (delta 5), pack-reused 0\u001b[K\n",
            "Receiving objects: 100% (27/27), 9.69 KiB | 9.69 MiB/s, done.\n",
            "Resolving deltas: 100% (5/5), done.\n"
          ]
        }
      ],
      "source": [
        "!pip install keras --upgrade\n",
        "!git clone https://github.com/anas-rz/k3-node.git"
      ]
    },
    {
      "cell_type": "code",
      "source": [
        "import sys\n",
        "sys.path.append('/content/k3-node')"
      ],
      "metadata": {
        "id": "pUUJjta0zq58"
      },
      "execution_count": 1,
      "outputs": []
    },
    {
      "cell_type": "code",
      "source": [
        "from k3_node.layers.conv.agnn_conv import AGNNConv"
      ],
      "metadata": {
        "id": "NlK9yJT-zzMs"
      },
      "execution_count": 2,
      "outputs": []
    },
    {
      "cell_type": "code",
      "source": [
        "import keras\n",
        "from keras import ops\n",
        "\n",
        "features, adj = keras.random.uniform((12, 32)), ops.ones((12, 12))"
      ],
      "metadata": {
        "id": "lFF1nNsuz70y"
      },
      "execution_count": 3,
      "outputs": []
    },
    {
      "cell_type": "code",
      "source": [
        "updated_features = AGNNConv()((features, adj))"
      ],
      "metadata": {
        "id": "zl-d3hty0QAX"
      },
      "execution_count": 4,
      "outputs": []
    },
    {
      "cell_type": "code",
      "source": [
        "updated_features.shape"
      ],
      "metadata": {
        "colab": {
          "base_uri": "https://localhost:8080/"
        },
        "id": "9MYvp8EM0Vnv",
        "outputId": "c64d89f1-2742-4970-fa25-a964cd98c3d9"
      },
      "execution_count": 5,
      "outputs": [
        {
          "output_type": "execute_result",
          "data": {
            "text/plain": [
              "TensorShape([12, 32])"
            ]
          },
          "metadata": {},
          "execution_count": 5
        }
      ]
    },
    {
      "cell_type": "code",
      "source": [
        "from k3_node.layers.conv.appnp_conv import APPNPConv"
      ],
      "metadata": {
        "id": "gJol65UN0bD7"
      },
      "execution_count": 6,
      "outputs": []
    },
    {
      "cell_type": "code",
      "source": [
        "updated_features = APPNPConv(64)((features, adj))"
      ],
      "metadata": {
        "id": "Jp4yPVpT0fY5"
      },
      "execution_count": 7,
      "outputs": []
    },
    {
      "cell_type": "code",
      "source": [
        "updated_features.shape"
      ],
      "metadata": {
        "colab": {
          "base_uri": "https://localhost:8080/"
        },
        "id": "s-Kmjriq1CJR",
        "outputId": "1596adf2-b145-4b64-e21d-d631b42d44e0"
      },
      "execution_count": 8,
      "outputs": [
        {
          "output_type": "execute_result",
          "data": {
            "text/plain": [
              "TensorShape([12, 64])"
            ]
          },
          "metadata": {},
          "execution_count": 8
        }
      ]
    },
    {
      "cell_type": "code",
      "source": [
        "from k3_node.layers.conv.arma_conv import ARMAConv"
      ],
      "metadata": {
        "id": "34DgBEMQ1Sbz"
      },
      "execution_count": 9,
      "outputs": []
    },
    {
      "cell_type": "code",
      "source": [
        "updated_features = ARMAConv(64)((features, adj))"
      ],
      "metadata": {
        "colab": {
          "base_uri": "https://localhost:8080/"
        },
        "id": "-iKfrqls1d-k",
        "outputId": "3b3a5f99-bccb-4250-e7af-dee54456b483"
      },
      "execution_count": 10,
      "outputs": [
        {
          "output_type": "stream",
          "name": "stdout",
          "text": [
            "((12, 32), (12, 12))\n"
          ]
        }
      ]
    },
    {
      "cell_type": "code",
      "source": [
        "updated_features.shape"
      ],
      "metadata": {
        "colab": {
          "base_uri": "https://localhost:8080/"
        },
        "id": "6TJ9blGe1iUK",
        "outputId": "6c1e8597-dda7-4c41-96ae-4a64063be90e"
      },
      "execution_count": 11,
      "outputs": [
        {
          "output_type": "execute_result",
          "data": {
            "text/plain": [
              "TensorShape([12, 64])"
            ]
          },
          "metadata": {},
          "execution_count": 11
        }
      ]
    },
    {
      "cell_type": "code",
      "source": [
        "from k3_node.layers.conv.crystal_conv import CrystalConv"
      ],
      "metadata": {
        "id": "NX-lRZwf2JtS"
      },
      "execution_count": 12,
      "outputs": []
    },
    {
      "cell_type": "code",
      "source": [
        "updated_features = CrystalConv()((features, adj))"
      ],
      "metadata": {
        "id": "W8dAas3l2U_0"
      },
      "execution_count": 13,
      "outputs": []
    },
    {
      "cell_type": "code",
      "source": [
        "updated_features.shape"
      ],
      "metadata": {
        "colab": {
          "base_uri": "https://localhost:8080/"
        },
        "id": "EYUyvNFo2YrG",
        "outputId": "8bf04c2f-b3aa-43cd-f159-cc8335ab2212"
      },
      "execution_count": 15,
      "outputs": [
        {
          "output_type": "execute_result",
          "data": {
            "text/plain": [
              "TensorShape([12, 32])"
            ]
          },
          "metadata": {},
          "execution_count": 15
        }
      ]
    },
    {
      "cell_type": "code",
      "source": [
        "from k3_node.layers.conv.gated_graph_conv import GatedGraphConv"
      ],
      "metadata": {
        "id": "rWwMNKmu2ZiY"
      },
      "execution_count": 16,
      "outputs": []
    },
    {
      "cell_type": "code",
      "source": [
        "updated_features = GatedGraphConv(64, 3)((features, adj))"
      ],
      "metadata": {
        "id": "cpC3oL8t2gDw"
      },
      "execution_count": 20,
      "outputs": []
    },
    {
      "cell_type": "code",
      "source": [
        "updated_features.shape"
      ],
      "metadata": {
        "colab": {
          "base_uri": "https://localhost:8080/"
        },
        "id": "8Zo1_uot2kUF",
        "outputId": "c6dede43-4811-43bf-be34-2aad9161229b"
      },
      "execution_count": 21,
      "outputs": [
        {
          "output_type": "execute_result",
          "data": {
            "text/plain": [
              "TensorShape([12, 64])"
            ]
          },
          "metadata": {},
          "execution_count": 21
        }
      ]
    },
    {
      "cell_type": "code",
      "source": [
        "from k3_node.layers.conv.general_conv import GeneralConv"
      ],
      "metadata": {
        "id": "klLmdraY2n97"
      },
      "execution_count": 22,
      "outputs": []
    },
    {
      "cell_type": "code",
      "source": [
        "updated_features = GeneralConv()((features, adj))"
      ],
      "metadata": {
        "id": "HUCOzZ9d21Jt"
      },
      "execution_count": 24,
      "outputs": []
    },
    {
      "cell_type": "code",
      "source": [
        "updated_features.shape"
      ],
      "metadata": {
        "colab": {
          "base_uri": "https://localhost:8080/"
        },
        "id": "m-If2H_x233j",
        "outputId": "42d1be32-9677-410f-bf78-ee02fbda9b27"
      },
      "execution_count": 25,
      "outputs": [
        {
          "output_type": "execute_result",
          "data": {
            "text/plain": [
              "TensorShape([12, 256])"
            ]
          },
          "metadata": {},
          "execution_count": 25
        }
      ]
    },
    {
      "cell_type": "code",
      "source": [
        "from k3_node.layers.conv.gin_conv import GINConv"
      ],
      "metadata": {
        "id": "ENIVVNIk26U7"
      },
      "execution_count": 26,
      "outputs": []
    },
    {
      "cell_type": "code",
      "source": [
        "updated_features = GINConv(64)((features, adj))"
      ],
      "metadata": {
        "id": "ns8mFfwV2_8K"
      },
      "execution_count": 28,
      "outputs": []
    },
    {
      "cell_type": "code",
      "source": [
        "updated_features.shape"
      ],
      "metadata": {
        "colab": {
          "base_uri": "https://localhost:8080/"
        },
        "id": "loQM7n_X3Drb",
        "outputId": "6ea57241-d37b-4469-b55f-899ae8b5f2d1"
      },
      "execution_count": 29,
      "outputs": [
        {
          "output_type": "execute_result",
          "data": {
            "text/plain": [
              "TensorShape([12, 64])"
            ]
          },
          "metadata": {},
          "execution_count": 29
        }
      ]
    },
    {
      "cell_type": "code",
      "source": [],
      "metadata": {
        "id": "hTyM9cfZ3HEy"
      },
      "execution_count": null,
      "outputs": []
    }
  ]
}